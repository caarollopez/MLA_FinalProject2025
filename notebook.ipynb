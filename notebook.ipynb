{
 "cells": [
  {
   "metadata": {},
   "cell_type": "markdown",
   "source": "# FINAL PROJECT: MACHINE LEARNING APPLICATIONS",
   "id": "d15ce667c90a3c9e"
  },
  {
   "metadata": {},
   "cell_type": "markdown",
   "source": [
    "In this project, students will use the knowledge and techniques acquired during\n",
    "the course to solve a machine learning task on text documents. Students can\n",
    "work in groups of a maximum of four people. It is important that, regardless\n",
    "of how each group chooses to distribute the work, all the components of the\n",
    "group know the complete project. The evaluation of the final project will be\n",
    "carried out through the delivery of a report and a group presentation followed\n",
    "by questions.\n",
    "\n",
    "The project consists of the following tasks:\n",
    "\n",
    "• Task 1. Natural Language Processing and text vectorization\n",
    "\n",
    "• Task 2. Machine Learning:\n",
    "\n",
    "– Task 2.1. Classification, Regression using feature extraction or selection techniques\n",
    "\n",
    "– Task 2.2. Clustering using feature extraction or selection techniques\n",
    "\n",
    "– Task 2.3. Recommendation Systems\n",
    "\n",
    "• Task 3. Implementation of a dashboard using the Python Dash library.\n",
    "\n",
    "• Task 4. Final report and presentation.\n",
    "\n",
    "For the execution of the final project, students must choose to implement\n",
    "any of the sub-Tasks 2 (either 2.1, 2.2 or 2.3), depending on their preferences\n",
    "and the possibilities of the database used."
   ],
   "id": "e682b1d6d4a963bd"
  },
  {
   "metadata": {},
   "cell_type": "markdown",
   "source": [
    "Done by:\n",
    "\n",
    "Carolina López De La Madriz 100475095\n",
    "\n",
    "Álvaro Martín Ruiz 100475---\n",
    "\n",
    "Emma Rodríguez Hervás 100475---\n",
    "\n",
    "Jaime Salafranca Pardo 100475216"
   ],
   "id": "3975045874544e3"
  },
  {
   "metadata": {},
   "cell_type": "markdown",
   "source": "## DATASET AND IMPORTS",
   "id": "96a8bb4572d3d6ff"
  },
  {
   "metadata": {
    "ExecuteTime": {
     "end_time": "2025-04-15T15:07:41.057942Z",
     "start_time": "2025-04-15T15:07:40.980523Z"
    }
   },
   "cell_type": "code",
   "source": [
    "import pandas as pd\n",
    "import numpy as np\n",
    "from pycaret.nlp import *\n"
   ],
   "id": "292aec38e7c85950",
   "outputs": [],
   "execution_count": 2
  },
  {
   "metadata": {
    "ExecuteTime": {
     "end_time": "2025-04-15T15:13:13.491283Z",
     "start_time": "2025-04-15T15:13:13.150176Z"
    }
   },
   "cell_type": "code",
   "source": "df = pd.read_csv('./datasets/fake_or_real_news.csv', index_col = 0)",
   "id": "a762ae1e506c6e3e",
   "outputs": [],
   "execution_count": 13
  },
  {
   "metadata": {},
   "cell_type": "markdown",
   "source": "## EXPLORATORY DATA ANALYSIS",
   "id": "bbf3f87141d5c4af"
  },
  {
   "metadata": {
    "ExecuteTime": {
     "end_time": "2025-04-15T15:13:15.764240Z",
     "start_time": "2025-04-15T15:13:15.752326Z"
    }
   },
   "cell_type": "code",
   "source": "df.head()",
   "id": "5cc3a46f2a4cb71",
   "outputs": [
    {
     "data": {
      "text/plain": [
       "                                                   title  \\\n",
       "8476                        You Can Smell Hillary’s Fear   \n",
       "10294  Watch The Exact Moment Paul Ryan Committed Pol...   \n",
       "3608         Kerry to go to Paris in gesture of sympathy   \n",
       "10142  Bernie supporters on Twitter erupt in anger ag...   \n",
       "875     The Battle of New York: Why This Primary Matters   \n",
       "\n",
       "                                                    text label  \n",
       "8476   Daniel Greenfield, a Shillman Journalism Fello...  FAKE  \n",
       "10294  Google Pinterest Digg Linkedin Reddit Stumbleu...  FAKE  \n",
       "3608   U.S. Secretary of State John F. Kerry said Mon...  REAL  \n",
       "10142  — Kaydee King (@KaydeeKing) November 9, 2016 T...  FAKE  \n",
       "875    It's primary day in New York and front-runners...  REAL  "
      ],
      "text/html": [
       "<div>\n",
       "<style scoped>\n",
       "    .dataframe tbody tr th:only-of-type {\n",
       "        vertical-align: middle;\n",
       "    }\n",
       "\n",
       "    .dataframe tbody tr th {\n",
       "        vertical-align: top;\n",
       "    }\n",
       "\n",
       "    .dataframe thead th {\n",
       "        text-align: right;\n",
       "    }\n",
       "</style>\n",
       "<table border=\"1\" class=\"dataframe\">\n",
       "  <thead>\n",
       "    <tr style=\"text-align: right;\">\n",
       "      <th></th>\n",
       "      <th>title</th>\n",
       "      <th>text</th>\n",
       "      <th>label</th>\n",
       "    </tr>\n",
       "  </thead>\n",
       "  <tbody>\n",
       "    <tr>\n",
       "      <th>8476</th>\n",
       "      <td>You Can Smell Hillary’s Fear</td>\n",
       "      <td>Daniel Greenfield, a Shillman Journalism Fello...</td>\n",
       "      <td>FAKE</td>\n",
       "    </tr>\n",
       "    <tr>\n",
       "      <th>10294</th>\n",
       "      <td>Watch The Exact Moment Paul Ryan Committed Pol...</td>\n",
       "      <td>Google Pinterest Digg Linkedin Reddit Stumbleu...</td>\n",
       "      <td>FAKE</td>\n",
       "    </tr>\n",
       "    <tr>\n",
       "      <th>3608</th>\n",
       "      <td>Kerry to go to Paris in gesture of sympathy</td>\n",
       "      <td>U.S. Secretary of State John F. Kerry said Mon...</td>\n",
       "      <td>REAL</td>\n",
       "    </tr>\n",
       "    <tr>\n",
       "      <th>10142</th>\n",
       "      <td>Bernie supporters on Twitter erupt in anger ag...</td>\n",
       "      <td>— Kaydee King (@KaydeeKing) November 9, 2016 T...</td>\n",
       "      <td>FAKE</td>\n",
       "    </tr>\n",
       "    <tr>\n",
       "      <th>875</th>\n",
       "      <td>The Battle of New York: Why This Primary Matters</td>\n",
       "      <td>It's primary day in New York and front-runners...</td>\n",
       "      <td>REAL</td>\n",
       "    </tr>\n",
       "  </tbody>\n",
       "</table>\n",
       "</div>"
      ]
     },
     "execution_count": 14,
     "metadata": {},
     "output_type": "execute_result"
    }
   ],
   "execution_count": 14
  },
  {
   "metadata": {
    "ExecuteTime": {
     "end_time": "2025-04-15T15:13:40.391018Z",
     "start_time": "2025-04-15T15:13:40.364039Z"
    }
   },
   "cell_type": "code",
   "source": [
    "# set the label class to 1 and 0\n",
    "df['label'] = df['label'].replace({'REAL': 1, 'FAKE': 0})\n",
    "df.head(5)"
   ],
   "id": "f2023268c05c1a6b",
   "outputs": [
    {
     "name": "stderr",
     "output_type": "stream",
     "text": [
      "C:\\Users\\jaime\\AppData\\Local\\Temp\\ipykernel_19572\\2760919855.py:2: FutureWarning: Downcasting behavior in `replace` is deprecated and will be removed in a future version. To retain the old behavior, explicitly call `result.infer_objects(copy=False)`. To opt-in to the future behavior, set `pd.set_option('future.no_silent_downcasting', True)`\n",
      "  df['label'] = df['label'].replace({'REAL': 1, 'FAKE': 0})\n"
     ]
    },
    {
     "data": {
      "text/plain": [
       "                                                   title  \\\n",
       "8476                        You Can Smell Hillary’s Fear   \n",
       "10294  Watch The Exact Moment Paul Ryan Committed Pol...   \n",
       "3608         Kerry to go to Paris in gesture of sympathy   \n",
       "10142  Bernie supporters on Twitter erupt in anger ag...   \n",
       "875     The Battle of New York: Why This Primary Matters   \n",
       "\n",
       "                                                    text  label  \n",
       "8476   Daniel Greenfield, a Shillman Journalism Fello...      0  \n",
       "10294  Google Pinterest Digg Linkedin Reddit Stumbleu...      0  \n",
       "3608   U.S. Secretary of State John F. Kerry said Mon...      1  \n",
       "10142  — Kaydee King (@KaydeeKing) November 9, 2016 T...      0  \n",
       "875    It's primary day in New York and front-runners...      1  "
      ],
      "text/html": [
       "<div>\n",
       "<style scoped>\n",
       "    .dataframe tbody tr th:only-of-type {\n",
       "        vertical-align: middle;\n",
       "    }\n",
       "\n",
       "    .dataframe tbody tr th {\n",
       "        vertical-align: top;\n",
       "    }\n",
       "\n",
       "    .dataframe thead th {\n",
       "        text-align: right;\n",
       "    }\n",
       "</style>\n",
       "<table border=\"1\" class=\"dataframe\">\n",
       "  <thead>\n",
       "    <tr style=\"text-align: right;\">\n",
       "      <th></th>\n",
       "      <th>title</th>\n",
       "      <th>text</th>\n",
       "      <th>label</th>\n",
       "    </tr>\n",
       "  </thead>\n",
       "  <tbody>\n",
       "    <tr>\n",
       "      <th>8476</th>\n",
       "      <td>You Can Smell Hillary’s Fear</td>\n",
       "      <td>Daniel Greenfield, a Shillman Journalism Fello...</td>\n",
       "      <td>0</td>\n",
       "    </tr>\n",
       "    <tr>\n",
       "      <th>10294</th>\n",
       "      <td>Watch The Exact Moment Paul Ryan Committed Pol...</td>\n",
       "      <td>Google Pinterest Digg Linkedin Reddit Stumbleu...</td>\n",
       "      <td>0</td>\n",
       "    </tr>\n",
       "    <tr>\n",
       "      <th>3608</th>\n",
       "      <td>Kerry to go to Paris in gesture of sympathy</td>\n",
       "      <td>U.S. Secretary of State John F. Kerry said Mon...</td>\n",
       "      <td>1</td>\n",
       "    </tr>\n",
       "    <tr>\n",
       "      <th>10142</th>\n",
       "      <td>Bernie supporters on Twitter erupt in anger ag...</td>\n",
       "      <td>— Kaydee King (@KaydeeKing) November 9, 2016 T...</td>\n",
       "      <td>0</td>\n",
       "    </tr>\n",
       "    <tr>\n",
       "      <th>875</th>\n",
       "      <td>The Battle of New York: Why This Primary Matters</td>\n",
       "      <td>It's primary day in New York and front-runners...</td>\n",
       "      <td>1</td>\n",
       "    </tr>\n",
       "  </tbody>\n",
       "</table>\n",
       "</div>"
      ]
     },
     "execution_count": 15,
     "metadata": {},
     "output_type": "execute_result"
    }
   ],
   "execution_count": 15
  },
  {
   "metadata": {
    "ExecuteTime": {
     "end_time": "2025-04-15T15:14:26.362612Z",
     "start_time": "2025-04-15T15:14:26.349775Z"
    }
   },
   "cell_type": "code",
   "source": "df['text'].isnull().sum()",
   "id": "aa2de9bd19f63a1d",
   "outputs": [
    {
     "data": {
      "text/plain": [
       "0"
      ]
     },
     "execution_count": 16,
     "metadata": {},
     "output_type": "execute_result"
    }
   ],
   "execution_count": 16
  },
  {
   "metadata": {
    "ExecuteTime": {
     "end_time": "2025-04-15T15:14:39.910057Z",
     "start_time": "2025-04-15T15:14:39.901739Z"
    }
   },
   "cell_type": "code",
   "source": "df['text'].isna().sum()",
   "id": "4f2fc0dfdeea5e4d",
   "outputs": [
    {
     "data": {
      "text/plain": [
       "0"
      ]
     },
     "execution_count": 17,
     "metadata": {},
     "output_type": "execute_result"
    }
   ],
   "execution_count": 17
  },
  {
   "metadata": {
    "ExecuteTime": {
     "end_time": "2025-04-15T15:15:03.820129Z",
     "start_time": "2025-04-15T15:15:03.784900Z"
    }
   },
   "cell_type": "code",
   "source": [
    "# distribution os the labels\n",
    "df['label'].value_counts()"
   ],
   "id": "652144d383e3e296",
   "outputs": [
    {
     "data": {
      "text/plain": [
       "label\n",
       "1    3171\n",
       "0    3164\n",
       "Name: count, dtype: int64"
      ]
     },
     "execution_count": 18,
     "metadata": {},
     "output_type": "execute_result"
    }
   ],
   "execution_count": 18
  },
  {
   "metadata": {},
   "cell_type": "code",
   "outputs": [],
   "execution_count": null,
   "source": "",
   "id": "7a5dbc3c53247855"
  },
  {
   "metadata": {},
   "cell_type": "markdown",
   "source": "## Task 1. Natural Language Processing and text vectorization",
   "id": "bf05936be2c22554"
  },
  {
   "metadata": {
    "ExecuteTime": {
     "end_time": "2025-04-15T15:15:52.133642Z",
     "start_time": "2025-04-15T15:15:52.128765Z"
    }
   },
   "cell_type": "code",
   "source": "import spacy",
   "id": "b467c0f4471252de",
   "outputs": [],
   "execution_count": 25
  },
  {
   "metadata": {
    "ExecuteTime": {
     "end_time": "2025-04-15T15:17:18.405468Z",
     "start_time": "2025-04-15T15:17:17.559123Z"
    }
   },
   "cell_type": "code",
   "source": "nlp = spacy.load('en_core_web_sm')",
   "id": "ab4eefe4a94c7331",
   "outputs": [],
   "execution_count": 27
  },
  {
   "metadata": {},
   "cell_type": "code",
   "outputs": [],
   "execution_count": null,
   "source": "",
   "id": "74f90f1d64d7e397"
  },
  {
   "metadata": {},
   "cell_type": "markdown",
   "source": "## Task 2. Machine Learning",
   "id": "1bbea3b856eefa9"
  },
  {
   "metadata": {},
   "cell_type": "markdown",
   "source": [
    "This task will consist of the thematic analysis of the collection provided. The\n",
    "steps you must follow in your work are as follows:\n",
    "• Step 1: Implementation of a pipeline for the preprocessing of the texts.\n",
    "For this task you could use SpaCy, or any other library that you consider\n",
    "appropriate.\n",
    "• Step 2: Text vectorization. In this stage you will analyze the following\n",
    "vectorization schemes:\n",
    "– Classical BoW or TF-IDF representation.\n",
    "– Word2vec/Glove based representation or Doc2Vec vectorization.\n",
    "– Extraction of themes and vector representation of the documents\n",
    "using the LDA algorithm.\n",
    "In the report you must include a description of the preprocessing pipeline\n",
    "used as well as the vectorization strategies that have been explored. For instance, in the Word2vec/FastText based representations you must explain how\n",
    "you convert a set of word vectors into a document vectorization or for the topic\n",
    "model you have to explain how you have carried out the selection of the number\n",
    "of topics. Any additional representation which helps to analyze this vectorization will be welcome (and positively evaluated)."
   ],
   "id": "755cc2a8d739060a"
  },
  {
   "metadata": {},
   "cell_type": "markdown",
   "source": "### Task 2.1. Classification, Regression using feature extraction or selection techniques",
   "id": "b94fdeed268db656"
  },
  {
   "metadata": {},
   "cell_type": "markdown",
   "source": "",
   "id": "504a66e89f2cbcaa"
  },
  {
   "metadata": {},
   "cell_type": "markdown",
   "source": "### Task 2.2. Clustering using feature extraction or selection techniques",
   "id": "b35266881a67d5db"
  },
  {
   "metadata": {},
   "cell_type": "markdown",
   "source": "### Task 2.3. Recommendation Systems",
   "id": "c61f49a249415514"
  },
  {
   "metadata": {},
   "cell_type": "markdown",
   "source": " ## Task 3. Implementation of a dashboard using the Python Dash library.",
   "id": "b2b444bcf1da2dad"
  },
  {
   "metadata": {},
   "cell_type": "markdown",
   "source": "## Task 4. Final report and presentation.",
   "id": "b578cbeb2cfa03ef"
  },
  {
   "metadata": {},
   "cell_type": "markdown",
   "source": "",
   "id": "f366451e666d847f"
  }
 ],
 "metadata": {
  "kernelspec": {
   "display_name": "Python 3",
   "language": "python",
   "name": "python3"
  },
  "language_info": {
   "codemirror_mode": {
    "name": "ipython",
    "version": 2
   },
   "file_extension": ".py",
   "mimetype": "text/x-python",
   "name": "python",
   "nbconvert_exporter": "python",
   "pygments_lexer": "ipython2",
   "version": "2.7.6"
  }
 },
 "nbformat": 4,
 "nbformat_minor": 5
}
